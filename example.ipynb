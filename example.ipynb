{
 "cells": [
  {
   "cell_type": "code",
   "execution_count": 15,
   "id": "ea560626",
   "metadata": {},
   "outputs": [],
   "source": [
    "using RCall\n",
    "using CategoricalArrays\n"
   ]
  },
  {
   "cell_type": "code",
   "execution_count": 21,
   "id": "f072dc9b",
   "metadata": {},
   "outputs": [
    {
     "name": "stderr",
     "output_type": "stream",
     "text": [
      "\u001b[33m\u001b[1m┌ \u001b[22m\u001b[39m\u001b[33m\u001b[1mWarning: \u001b[22m\u001b[39mRCall.jl: ℹ Loading LongituRF\n",
      "\u001b[33m\u001b[1m└ \u001b[22m\u001b[39m\u001b[90m@ RCall ~/.julia/packages/RCall/dDAVd/src/io.jl:172\u001b[39m\n"
     ]
    },
    {
     "data": {
      "text/plain": [
       "OrderedCollections.OrderedDict{Symbol, Any} with 5 entries:\n",
       "  :Y    => [-1.59745, -1.15109, 4.34946, 9.19996, 7.58835, 8.08719, 8.61482, 10…\n",
       "  :X    => [-0.658979 -1.0868 … 1.0616 0.344439; 1.43549 0.326113 … 0.690108 1.…\n",
       "  :Z    => [1.0 0.848472; 1.0 0.677248; … ; 1.0 1.85712; 1.0 0.68882]\n",
       "  :id   => [1, 1, 1, 1, 1, 1, 1, 1, 1, 1  …  49, 50, 50, 50, 50, 50, 50, 50, 50…\n",
       "  :time => [1.0, 2.0, 3.0, 4.0, 5.0, 6.0, 7.0, 8.0, 9.0, 10.0  …  9.0, 1.0, 2.0…"
      ]
     },
     "execution_count": 21,
     "metadata": {},
     "output_type": "execute_result"
    }
   ],
   "source": [
    "R\"\"\"\n",
    "devtools::load_all(\".\")\n",
    "data <- DataLongGenerator(50, p = 6)\n",
    "\"\"\"\n",
    "@rget data"
   ]
  },
  {
   "cell_type": "code",
   "execution_count": 17,
   "id": "cd9001ef",
   "metadata": {},
   "outputs": [
    {
     "name": "stderr",
     "output_type": "stream",
     "text": [
      "\u001b[33m\u001b[1m┌ \u001b[22m\u001b[39m\u001b[33m\u001b[1mWarning: \u001b[22m\u001b[39mRCall.jl: ℹ Loading LongituRF\n",
      "\u001b[33m\u001b[1m└ \u001b[22m\u001b[39m\u001b[90m@ RCall ~/.julia/packages/RCall/dDAVd/src/io.jl:172\u001b[39m\n"
     ]
    },
    {
     "data": {
      "text/html": [
       "<div><div style = \"float: left;\"><span>8044×15 DataFrame</span></div><div style = \"float: right;\"><span style = \"font-style: italic;\">8019 rows omitted</span></div><div style = \"clear: both;\"></div></div><div class = \"data-frame\" style = \"overflow-x: scroll;\"><table class = \"data-frame\" style = \"margin-bottom: 6px;\"><thead><tr class = \"header\"><th class = \"rowNumber\" style = \"font-weight: bold; text-align: right;\">Row</th><th style = \"text-align: left;\">ID</th><th style = \"text-align: left;\">AGE</th><th style = \"text-align: left;\">SEXE</th><th style = \"text-align: left;\">Speed</th><th style = \"text-align: left;\">KM</th><th style = \"text-align: left;\">NO2</th><th style = \"text-align: left;\">O3</th><th style = \"text-align: left;\">PM10</th><th style = \"text-align: left;\">PM25</th><th style = \"text-align: left;\">T</th><th style = \"text-align: left;\">FF</th><th style = \"text-align: left;\">PSTAT</th><th style = \"text-align: left;\">U</th><th style = \"text-align: left;\">INS</th><th style = \"text-align: left;\">nbpartcl</th></tr><tr class = \"subheader headerLastRow\"><th class = \"rowNumber\" style = \"font-weight: bold; text-align: right;\"></th><th title = \"CategoricalValue{String, UInt32}\" style = \"text-align: left;\">Cat…</th><th title = \"CategoricalValue{String, UInt32}\" style = \"text-align: left;\">Cat…</th><th title = \"CategoricalValue{String, UInt32}\" style = \"text-align: left;\">Cat…</th><th title = \"Float64\" style = \"text-align: left;\">Float64</th><th title = \"Float64\" style = \"text-align: left;\">Float64</th><th title = \"Float64\" style = \"text-align: left;\">Float64</th><th title = \"Float64\" style = \"text-align: left;\">Float64</th><th title = \"Float64\" style = \"text-align: left;\">Float64</th><th title = \"Float64\" style = \"text-align: left;\">Float64</th><th title = \"Float64\" style = \"text-align: left;\">Float64</th><th title = \"Float64\" style = \"text-align: left;\">Float64</th><th title = \"Float64\" style = \"text-align: left;\">Float64</th><th title = \"Float64\" style = \"text-align: left;\">Float64</th><th title = \"Float64\" style = \"text-align: left;\">Float64</th><th title = \"CategoricalValue{String, UInt32}\" style = \"text-align: left;\">Cat…</th></tr></thead><tbody><tr><td class = \"rowNumber\" style = \"font-weight: bold; text-align: right;\">1</td><td style = \"text-align: left;\">65458</td><td style = \"text-align: left;\">S</td><td style = \"text-align: left;\">H</td><td style = \"text-align: right;\">20.316</td><td style = \"text-align: right;\">5.0</td><td style = \"text-align: right;\">15.649</td><td style = \"text-align: right;\">71.446</td><td style = \"text-align: right;\">18.8107</td><td style = \"text-align: right;\">9.00035</td><td style = \"text-align: right;\">22.0</td><td style = \"text-align: right;\">4.9</td><td style = \"text-align: right;\">997.1</td><td style = \"text-align: right;\">51.0</td><td style = \"text-align: right;\">60.0</td><td style = \"text-align: left;\">4 et +</td></tr><tr><td class = \"rowNumber\" style = \"font-weight: bold; text-align: right;\">2</td><td style = \"text-align: left;\">65458</td><td style = \"text-align: left;\">S</td><td style = \"text-align: left;\">H</td><td style = \"text-align: right;\">20.7135</td><td style = \"text-align: right;\">10.0</td><td style = \"text-align: right;\">15.1517</td><td style = \"text-align: right;\">72.9898</td><td style = \"text-align: right;\">19.0301</td><td style = \"text-align: right;\">9.3477</td><td style = \"text-align: right;\">22.34</td><td style = \"text-align: right;\">4.8</td><td style = \"text-align: right;\">997.1</td><td style = \"text-align: right;\">50.26</td><td style = \"text-align: right;\">59.26</td><td style = \"text-align: left;\">4 et +</td></tr><tr><td class = \"rowNumber\" style = \"font-weight: bold; text-align: right;\">3</td><td style = \"text-align: left;\">65458</td><td style = \"text-align: left;\">S</td><td style = \"text-align: left;\">H</td><td style = \"text-align: right;\">19.8238</td><td style = \"text-align: right;\">15.0</td><td style = \"text-align: right;\">14.6482</td><td style = \"text-align: right;\">74.5529</td><td style = \"text-align: right;\">19.2523</td><td style = \"text-align: right;\">9.6994</td><td style = \"text-align: right;\">22.68</td><td style = \"text-align: right;\">4.7</td><td style = \"text-align: right;\">997.1</td><td style = \"text-align: right;\">49.54</td><td style = \"text-align: right;\">58.54</td><td style = \"text-align: left;\">4 et +</td></tr><tr><td class = \"rowNumber\" style = \"font-weight: bold; text-align: right;\">4</td><td style = \"text-align: left;\">65458</td><td style = \"text-align: left;\">S</td><td style = \"text-align: left;\">H</td><td style = \"text-align: right;\">18.7305</td><td style = \"text-align: right;\">20.0</td><td style = \"text-align: right;\">14.1187</td><td style = \"text-align: right;\">76.1969</td><td style = \"text-align: right;\">19.4859</td><td style = \"text-align: right;\">10.0693</td><td style = \"text-align: right;\">23.04</td><td style = \"text-align: right;\">4.6</td><td style = \"text-align: right;\">997.1</td><td style = \"text-align: right;\">48.78</td><td style = \"text-align: right;\">57.78</td><td style = \"text-align: left;\">4 et +</td></tr><tr><td class = \"rowNumber\" style = \"font-weight: bold; text-align: right;\">5</td><td style = \"text-align: left;\">132007</td><td style = \"text-align: left;\">E</td><td style = \"text-align: left;\">H</td><td style = \"text-align: right;\">20.362</td><td style = \"text-align: right;\">5.0</td><td style = \"text-align: right;\">15.6495</td><td style = \"text-align: right;\">71.4443</td><td style = \"text-align: right;\">18.8105</td><td style = \"text-align: right;\">8.99996</td><td style = \"text-align: right;\">22.0</td><td style = \"text-align: right;\">4.9</td><td style = \"text-align: right;\">997.1</td><td style = \"text-align: right;\">51.0</td><td style = \"text-align: right;\">60.0</td><td style = \"text-align: left;\">2</td></tr><tr><td class = \"rowNumber\" style = \"font-weight: bold; text-align: right;\">6</td><td style = \"text-align: left;\">132007</td><td style = \"text-align: left;\">E</td><td style = \"text-align: left;\">H</td><td style = \"text-align: right;\">20.5245</td><td style = \"text-align: right;\">10.0</td><td style = \"text-align: right;\">15.1506</td><td style = \"text-align: right;\">72.9933</td><td style = \"text-align: right;\">19.0306</td><td style = \"text-align: right;\">9.34849</td><td style = \"text-align: right;\">22.34</td><td style = \"text-align: right;\">4.8</td><td style = \"text-align: right;\">997.1</td><td style = \"text-align: right;\">50.26</td><td style = \"text-align: right;\">59.26</td><td style = \"text-align: left;\">2</td></tr><tr><td class = \"rowNumber\" style = \"font-weight: bold; text-align: right;\">7</td><td style = \"text-align: left;\">132007</td><td style = \"text-align: left;\">E</td><td style = \"text-align: left;\">H</td><td style = \"text-align: right;\">18.8877</td><td style = \"text-align: right;\">15.0</td><td style = \"text-align: right;\">14.6321</td><td style = \"text-align: right;\">74.603</td><td style = \"text-align: right;\">19.2594</td><td style = \"text-align: right;\">9.71068</td><td style = \"text-align: right;\">22.68</td><td style = \"text-align: right;\">4.7</td><td style = \"text-align: right;\">997.1</td><td style = \"text-align: right;\">49.53</td><td style = \"text-align: right;\">58.53</td><td style = \"text-align: left;\">2</td></tr><tr><td class = \"rowNumber\" style = \"font-weight: bold; text-align: right;\">8</td><td style = \"text-align: left;\">132007</td><td style = \"text-align: left;\">E</td><td style = \"text-align: left;\">H</td><td style = \"text-align: right;\">19.0275</td><td style = \"text-align: right;\">20.0</td><td style = \"text-align: right;\">14.094</td><td style = \"text-align: right;\">76.2734</td><td style = \"text-align: right;\">19.4967</td><td style = \"text-align: right;\">10.0865</td><td style = \"text-align: right;\">23.06</td><td style = \"text-align: right;\">4.6</td><td style = \"text-align: right;\">997.1</td><td style = \"text-align: right;\">48.74</td><td style = \"text-align: right;\">57.74</td><td style = \"text-align: left;\">2</td></tr><tr><td class = \"rowNumber\" style = \"font-weight: bold; text-align: right;\">9</td><td style = \"text-align: left;\">144925</td><td style = \"text-align: left;\">S</td><td style = \"text-align: left;\">H</td><td style = \"text-align: right;\">19.1693</td><td style = \"text-align: right;\">5.0</td><td style = \"text-align: right;\">15.6339</td><td style = \"text-align: right;\">71.4926</td><td style = \"text-align: right;\">18.8174</td><td style = \"text-align: right;\">9.01084</td><td style = \"text-align: right;\">22.0</td><td style = \"text-align: right;\">4.9</td><td style = \"text-align: right;\">997.1</td><td style = \"text-align: right;\">51.0</td><td style = \"text-align: right;\">60.0</td><td style = \"text-align: left;\">1</td></tr><tr><td class = \"rowNumber\" style = \"font-weight: bold; text-align: right;\">10</td><td style = \"text-align: left;\">144925</td><td style = \"text-align: left;\">S</td><td style = \"text-align: left;\">H</td><td style = \"text-align: right;\">19.8456</td><td style = \"text-align: right;\">10.0</td><td style = \"text-align: right;\">15.1109</td><td style = \"text-align: right;\">73.1164</td><td style = \"text-align: right;\">19.0481</td><td style = \"text-align: right;\">9.3762</td><td style = \"text-align: right;\">22.37</td><td style = \"text-align: right;\">4.8</td><td style = \"text-align: right;\">997.1</td><td style = \"text-align: right;\">50.22</td><td style = \"text-align: right;\">59.22</td><td style = \"text-align: left;\">1</td></tr><tr><td class = \"rowNumber\" style = \"font-weight: bold; text-align: right;\">11</td><td style = \"text-align: left;\">144925</td><td style = \"text-align: left;\">S</td><td style = \"text-align: left;\">H</td><td style = \"text-align: right;\">18.9076</td><td style = \"text-align: right;\">15.0</td><td style = \"text-align: right;\">14.5842</td><td style = \"text-align: right;\">74.7517</td><td style = \"text-align: right;\">19.2805</td><td style = \"text-align: right;\">9.74413</td><td style = \"text-align: right;\">22.72</td><td style = \"text-align: right;\">4.69</td><td style = \"text-align: right;\">997.1</td><td style = \"text-align: right;\">49.46</td><td style = \"text-align: right;\">58.46</td><td style = \"text-align: left;\">1</td></tr><tr><td class = \"rowNumber\" style = \"font-weight: bold; text-align: right;\">12</td><td style = \"text-align: left;\">144925</td><td style = \"text-align: left;\">S</td><td style = \"text-align: left;\">H</td><td style = \"text-align: right;\">18.3486</td><td style = \"text-align: right;\">20.0</td><td style = \"text-align: right;\">14.0365</td><td style = \"text-align: right;\">76.452</td><td style = \"text-align: right;\">19.5221</td><td style = \"text-align: right;\">10.1267</td><td style = \"text-align: right;\">23.09</td><td style = \"text-align: right;\">4.59</td><td style = \"text-align: right;\">997.1</td><td style = \"text-align: right;\">48.67</td><td style = \"text-align: right;\">57.67</td><td style = \"text-align: left;\">1</td></tr><tr><td class = \"rowNumber\" style = \"font-weight: bold; text-align: right;\">13</td><td style = \"text-align: left;\">144926</td><td style = \"text-align: left;\">S</td><td style = \"text-align: left;\">H</td><td style = \"text-align: right;\">19.1693</td><td style = \"text-align: right;\">5.0</td><td style = \"text-align: right;\">15.6339</td><td style = \"text-align: right;\">71.4926</td><td style = \"text-align: right;\">18.8174</td><td style = \"text-align: right;\">9.01084</td><td style = \"text-align: right;\">22.0</td><td style = \"text-align: right;\">4.9</td><td style = \"text-align: right;\">997.1</td><td style = \"text-align: right;\">51.0</td><td style = \"text-align: right;\">60.0</td><td style = \"text-align: left;\">1</td></tr><tr><td style = \"text-align: right;\">&vellip;</td><td style = \"text-align: right;\">&vellip;</td><td style = \"text-align: right;\">&vellip;</td><td style = \"text-align: right;\">&vellip;</td><td style = \"text-align: right;\">&vellip;</td><td style = \"text-align: right;\">&vellip;</td><td style = \"text-align: right;\">&vellip;</td><td style = \"text-align: right;\">&vellip;</td><td style = \"text-align: right;\">&vellip;</td><td style = \"text-align: right;\">&vellip;</td><td style = \"text-align: right;\">&vellip;</td><td style = \"text-align: right;\">&vellip;</td><td style = \"text-align: right;\">&vellip;</td><td style = \"text-align: right;\">&vellip;</td><td style = \"text-align: right;\">&vellip;</td><td style = \"text-align: right;\">&vellip;</td></tr><tr><td class = \"rowNumber\" style = \"font-weight: bold; text-align: right;\">8033</td><td style = \"text-align: left;\">108604</td><td style = \"text-align: left;\">M</td><td style = \"text-align: left;\">H</td><td style = \"text-align: right;\">11.208</td><td style = \"text-align: right;\">5.0</td><td style = \"text-align: right;\">15.445</td><td style = \"text-align: right;\">72.0794</td><td style = \"text-align: right;\">18.9007</td><td style = \"text-align: right;\">9.14285</td><td style = \"text-align: right;\">22.0</td><td style = \"text-align: right;\">4.9</td><td style = \"text-align: right;\">997.1</td><td style = \"text-align: right;\">51.0</td><td style = \"text-align: right;\">60.0</td><td style = \"text-align: left;\">2</td></tr><tr><td class = \"rowNumber\" style = \"font-weight: bold; text-align: right;\">8034</td><td style = \"text-align: left;\">108604</td><td style = \"text-align: left;\">M</td><td style = \"text-align: left;\">H</td><td style = \"text-align: right;\">11.9681</td><td style = \"text-align: right;\">10.0</td><td style = \"text-align: right;\">14.5638</td><td style = \"text-align: right;\">74.815</td><td style = \"text-align: right;\">19.2895</td><td style = \"text-align: right;\">9.75837</td><td style = \"text-align: right;\">22.62</td><td style = \"text-align: right;\">4.72</td><td style = \"text-align: right;\">997.1</td><td style = \"text-align: right;\">49.66</td><td style = \"text-align: right;\">58.66</td><td style = \"text-align: left;\">2</td></tr><tr><td class = \"rowNumber\" style = \"font-weight: bold; text-align: right;\">8035</td><td style = \"text-align: left;\">108604</td><td style = \"text-align: left;\">M</td><td style = \"text-align: left;\">H</td><td style = \"text-align: right;\">11.9363</td><td style = \"text-align: right;\">15.0</td><td style = \"text-align: right;\">13.7969</td><td style = \"text-align: right;\">77.2689</td><td style = \"text-align: right;\">19.6856</td><td style = \"text-align: right;\">10.3233</td><td style = \"text-align: right;\">23.21</td><td style = \"text-align: right;\">4.55</td><td style = \"text-align: right;\">997.1</td><td style = \"text-align: right;\">48.41</td><td style = \"text-align: right;\">57.41</td><td style = \"text-align: left;\">2</td></tr><tr><td class = \"rowNumber\" style = \"font-weight: bold; text-align: right;\">8036</td><td style = \"text-align: left;\">108604</td><td style = \"text-align: left;\">M</td><td style = \"text-align: left;\">H</td><td style = \"text-align: right;\">11.757</td><td style = \"text-align: right;\">20.0</td><td style = \"text-align: right;\">13.4339</td><td style = \"text-align: right;\">78.8165</td><td style = \"text-align: right;\">20.178</td><td style = \"text-align: right;\">10.7454</td><td style = \"text-align: right;\">23.68</td><td style = \"text-align: right;\">4.33</td><td style = \"text-align: right;\">996.96</td><td style = \"text-align: right;\">47.15</td><td style = \"text-align: right;\">51.34</td><td style = \"text-align: left;\">2</td></tr><tr><td class = \"rowNumber\" style = \"font-weight: bold; text-align: right;\">8037</td><td style = \"text-align: left;\">122335</td><td style = \"text-align: left;\">M</td><td style = \"text-align: left;\">H</td><td style = \"text-align: right;\">12.4224</td><td style = \"text-align: right;\">5.0</td><td style = \"text-align: right;\">15.4894</td><td style = \"text-align: right;\">71.9412</td><td style = \"text-align: right;\">18.8811</td><td style = \"text-align: right;\">9.11178</td><td style = \"text-align: right;\">22.0</td><td style = \"text-align: right;\">4.9</td><td style = \"text-align: right;\">997.1</td><td style = \"text-align: right;\">51.0</td><td style = \"text-align: right;\">60.0</td><td style = \"text-align: left;\">3</td></tr><tr><td class = \"rowNumber\" style = \"font-weight: bold; text-align: right;\">8038</td><td style = \"text-align: left;\">122335</td><td style = \"text-align: left;\">M</td><td style = \"text-align: left;\">H</td><td style = \"text-align: right;\">12.2783</td><td style = \"text-align: right;\">10.0</td><td style = \"text-align: right;\">14.6635</td><td style = \"text-align: right;\">74.5054</td><td style = \"text-align: right;\">19.2455</td><td style = \"text-align: right;\">9.68871</td><td style = \"text-align: right;\">22.56</td><td style = \"text-align: right;\">4.74</td><td style = \"text-align: right;\">997.1</td><td style = \"text-align: right;\">49.79</td><td style = \"text-align: right;\">58.79</td><td style = \"text-align: left;\">3</td></tr><tr><td class = \"rowNumber\" style = \"font-weight: bold; text-align: right;\">8039</td><td style = \"text-align: left;\">122335</td><td style = \"text-align: left;\">M</td><td style = \"text-align: left;\">H</td><td style = \"text-align: right;\">10.2857</td><td style = \"text-align: right;\">15.0</td><td style = \"text-align: right;\">13.8146</td><td style = \"text-align: right;\">77.1935</td><td style = \"text-align: right;\">19.6616</td><td style = \"text-align: right;\">10.3028</td><td style = \"text-align: right;\">23.13</td><td style = \"text-align: right;\">4.58</td><td style = \"text-align: right;\">997.1</td><td style = \"text-align: right;\">48.57</td><td style = \"text-align: right;\">57.57</td><td style = \"text-align: left;\">3</td></tr><tr><td class = \"rowNumber\" style = \"font-weight: bold; text-align: right;\">8040</td><td style = \"text-align: left;\">122335</td><td style = \"text-align: left;\">M</td><td style = \"text-align: left;\">H</td><td style = \"text-align: right;\">9.71922</td><td style = \"text-align: right;\">20.0</td><td style = \"text-align: right;\">13.3844</td><td style = \"text-align: right;\">79.0279</td><td style = \"text-align: right;\">20.2452</td><td style = \"text-align: right;\">10.8031</td><td style = \"text-align: right;\">23.7</td><td style = \"text-align: right;\">4.32</td><td style = \"text-align: right;\">996.95</td><td style = \"text-align: right;\">47.11</td><td style = \"text-align: right;\">51.08</td><td style = \"text-align: left;\">3</td></tr><tr><td class = \"rowNumber\" style = \"font-weight: bold; text-align: right;\">8041</td><td style = \"text-align: left;\">12010</td><td style = \"text-align: left;\">S</td><td style = \"text-align: left;\">H</td><td style = \"text-align: right;\">10.8238</td><td style = \"text-align: right;\">5.0</td><td style = \"text-align: right;\">15.4288</td><td style = \"text-align: right;\">72.1295</td><td style = \"text-align: right;\">18.9079</td><td style = \"text-align: right;\">9.15414</td><td style = \"text-align: right;\">22.0</td><td style = \"text-align: right;\">4.9</td><td style = \"text-align: right;\">997.1</td><td style = \"text-align: right;\">51.0</td><td style = \"text-align: right;\">60.0</td><td style = \"text-align: left;\">4 et +</td></tr><tr><td class = \"rowNumber\" style = \"font-weight: bold; text-align: right;\">8042</td><td style = \"text-align: left;\">12010</td><td style = \"text-align: left;\">S</td><td style = \"text-align: left;\">H</td><td style = \"text-align: right;\">10.6572</td><td style = \"text-align: right;\">10.0</td><td style = \"text-align: right;\">14.4791</td><td style = \"text-align: right;\">75.078</td><td style = \"text-align: right;\">19.3269</td><td style = \"text-align: right;\">9.81755</td><td style = \"text-align: right;\">22.65</td><td style = \"text-align: right;\">4.72</td><td style = \"text-align: right;\">997.1</td><td style = \"text-align: right;\">49.61</td><td style = \"text-align: right;\">58.61</td><td style = \"text-align: left;\">4 et +</td></tr><tr><td class = \"rowNumber\" style = \"font-weight: bold; text-align: right;\">8043</td><td style = \"text-align: left;\">12010</td><td style = \"text-align: left;\">S</td><td style = \"text-align: left;\">H</td><td style = \"text-align: right;\">10.3152</td><td style = \"text-align: right;\">15.0</td><td style = \"text-align: right;\">13.7108</td><td style = \"text-align: right;\">77.6361</td><td style = \"text-align: right;\">19.8024</td><td style = \"text-align: right;\">10.4235</td><td style = \"text-align: right;\">23.3</td><td style = \"text-align: right;\">4.53</td><td style = \"text-align: right;\">997.1</td><td style = \"text-align: right;\">48.21</td><td style = \"text-align: right;\">57.21</td><td style = \"text-align: left;\">4 et +</td></tr><tr><td class = \"rowNumber\" style = \"font-weight: bold; text-align: right;\">8044</td><td style = \"text-align: left;\">12010</td><td style = \"text-align: left;\">S</td><td style = \"text-align: left;\">H</td><td style = \"text-align: right;\">9.21187</td><td style = \"text-align: right;\">20.0</td><td style = \"text-align: right;\">13.269</td><td style = \"text-align: right;\">79.5198</td><td style = \"text-align: right;\">20.4018</td><td style = \"text-align: right;\">10.9372</td><td style = \"text-align: right;\">23.82</td><td style = \"text-align: right;\">4.25</td><td style = \"text-align: right;\">996.89</td><td style = \"text-align: right;\">46.75</td><td style = \"text-align: right;\">48.68</td><td style = \"text-align: left;\">4 et +</td></tr></tbody></table></div>"
      ],
      "text/latex": [
       "\\begin{tabular}{r|ccccccccccc}\n",
       "\t& ID & AGE & SEXE & Speed & KM & NO2 & O3 & PM10 & PM25 & T & \\\\\n",
       "\t\\hline\n",
       "\t& Cat… & Cat… & Cat… & Float64 & Float64 & Float64 & Float64 & Float64 & Float64 & Float64 & \\\\\n",
       "\t\\hline\n",
       "\t1 & 65458 & S & H & 20.316 & 5.0 & 15.649 & 71.446 & 18.8107 & 9.00035 & 22.0 & $\\dots$ \\\\\n",
       "\t2 & 65458 & S & H & 20.7135 & 10.0 & 15.1517 & 72.9898 & 19.0301 & 9.3477 & 22.34 & $\\dots$ \\\\\n",
       "\t3 & 65458 & S & H & 19.8238 & 15.0 & 14.6482 & 74.5529 & 19.2523 & 9.6994 & 22.68 & $\\dots$ \\\\\n",
       "\t4 & 65458 & S & H & 18.7305 & 20.0 & 14.1187 & 76.1969 & 19.4859 & 10.0693 & 23.04 & $\\dots$ \\\\\n",
       "\t5 & 132007 & E & H & 20.362 & 5.0 & 15.6495 & 71.4443 & 18.8105 & 8.99996 & 22.0 & $\\dots$ \\\\\n",
       "\t6 & 132007 & E & H & 20.5245 & 10.0 & 15.1506 & 72.9933 & 19.0306 & 9.34849 & 22.34 & $\\dots$ \\\\\n",
       "\t7 & 132007 & E & H & 18.8877 & 15.0 & 14.6321 & 74.603 & 19.2594 & 9.71068 & 22.68 & $\\dots$ \\\\\n",
       "\t8 & 132007 & E & H & 19.0275 & 20.0 & 14.094 & 76.2734 & 19.4967 & 10.0865 & 23.06 & $\\dots$ \\\\\n",
       "\t9 & 144925 & S & H & 19.1693 & 5.0 & 15.6339 & 71.4926 & 18.8174 & 9.01084 & 22.0 & $\\dots$ \\\\\n",
       "\t10 & 144925 & S & H & 19.8456 & 10.0 & 15.1109 & 73.1164 & 19.0481 & 9.3762 & 22.37 & $\\dots$ \\\\\n",
       "\t11 & 144925 & S & H & 18.9076 & 15.0 & 14.5842 & 74.7517 & 19.2805 & 9.74413 & 22.72 & $\\dots$ \\\\\n",
       "\t12 & 144925 & S & H & 18.3486 & 20.0 & 14.0365 & 76.452 & 19.5221 & 10.1267 & 23.09 & $\\dots$ \\\\\n",
       "\t13 & 144926 & S & H & 19.1693 & 5.0 & 15.6339 & 71.4926 & 18.8174 & 9.01084 & 22.0 & $\\dots$ \\\\\n",
       "\t14 & 144926 & S & H & 19.8238 & 10.0 & 15.1106 & 73.1173 & 19.0482 & 9.3764 & 22.37 & $\\dots$ \\\\\n",
       "\t15 & 144926 & S & H & 18.8679 & 15.0 & 14.5831 & 74.7552 & 19.281 & 9.74492 & 22.72 & $\\dots$ \\\\\n",
       "\t16 & 144926 & S & H & 17.9462 & 20.0 & 14.0286 & 76.4766 & 19.5256 & 10.1322 & 23.09 & $\\dots$ \\\\\n",
       "\t17 & 144927 & E & H & 18.8482 & 5.0 & 15.6294 & 71.5067 & 18.8194 & 9.01401 & 22.0 & $\\dots$ \\\\\n",
       "\t18 & 144927 & E & H & 18.7305 & 10.0 & 15.0866 & 73.1921 & 19.0589 & 9.39322 & 22.37 & $\\dots$ \\\\\n",
       "\t19 & 144927 & E & H & 18.2002 & 15.0 & 14.534 & 74.9074 & 19.3026 & 9.77916 & 22.75 & $\\dots$ \\\\\n",
       "\t20 & 144927 & E & H & 17.8042 & 20.0 & 13.9674 & 76.6666 & 19.5526 & 10.175 & 23.13 & $\\dots$ \\\\\n",
       "\t21 & 144928 & S & H & 18.6143 & 5.0 & 15.626 & 71.5173 & 18.8209 & 9.01639 & 22.0 & $\\dots$ \\\\\n",
       "\t22 & 144928 & S & H & 18.6335 & 10.0 & 15.0783 & 73.2176 & 19.0625 & 9.39896 & 22.38 & $\\dots$ \\\\\n",
       "\t23 & 144928 & S & H & 18.1635 & 15.0 & 14.5238 & 74.939 & 19.3071 & 9.78628 & 22.75 & $\\dots$ \\\\\n",
       "\t24 & 144928 & S & H & 17.6991 & 20.0 & 13.9549 & 76.7053 & 19.5581 & 10.1837 & 23.14 & $\\dots$ \\\\\n",
       "\t25 & 144932 & S & H & 17.982 & 5.0 & 15.6164 & 71.5472 & 18.8251 & 9.02311 & 22.0 & $\\dots$ \\\\\n",
       "\t26 & 144932 & S & H & 18.2186 & 10.0 & 15.0528 & 73.2968 & 19.0737 & 9.41677 & 22.39 & $\\dots$ \\\\\n",
       "\t27 & 144932 & S & H & 17.5953 & 15.0 & 14.4831 & 75.0657 & 19.3251 & 9.81478 & 22.77 & $\\dots$ \\\\\n",
       "\t28 & 144932 & S & H & 17.1429 & 20.0 & 13.8957 & 76.8892 & 19.5842 & 10.2251 & 23.17 & $\\dots$ \\\\\n",
       "\t29 & 144933 & M & H & 17.2911 & 5.0 & 15.6051 & 71.5824 & 18.8301 & 9.03103 & 22.0 & $\\dots$ \\\\\n",
       "\t30 & 144933 & M & H & 18.0361 & 10.0 & 15.0273 & 73.3759 & 19.085 & 9.43458 & 22.4 & $\\dots$ \\\\\n",
       "\t$\\dots$ & $\\dots$ & $\\dots$ & $\\dots$ & $\\dots$ & $\\dots$ & $\\dots$ & $\\dots$ & $\\dots$ & $\\dots$ & $\\dots$ &  \\\\\n",
       "\\end{tabular}\n"
      ],
      "text/plain": [
       "\u001b[1m8044×15 DataFrame\u001b[0m\n",
       "\u001b[1m  Row \u001b[0m│\u001b[1m ID     \u001b[0m\u001b[1m AGE  \u001b[0m\u001b[1m SEXE \u001b[0m\u001b[1m Speed    \u001b[0m\u001b[1m KM      \u001b[0m\u001b[1m NO2     \u001b[0m\u001b[1m O3      \u001b[0m\u001b[1m PM10    \u001b[0m\u001b[1m PM25\u001b[0m ⋯\n",
       "      │\u001b[90m Cat…   \u001b[0m\u001b[90m Cat… \u001b[0m\u001b[90m Cat… \u001b[0m\u001b[90m Float64  \u001b[0m\u001b[90m Float64 \u001b[0m\u001b[90m Float64 \u001b[0m\u001b[90m Float64 \u001b[0m\u001b[90m Float64 \u001b[0m\u001b[90m Floa\u001b[0m ⋯\n",
       "──────┼─────────────────────────────────────────────────────────────────────────\n",
       "    1 │ 65458   S     H     20.316        5.0  15.649   71.446   18.8107   9.0 ⋯\n",
       "    2 │ 65458   S     H     20.7135      10.0  15.1517  72.9898  19.0301   9.3\n",
       "    3 │ 65458   S     H     19.8238      15.0  14.6482  74.5529  19.2523   9.6\n",
       "    4 │ 65458   S     H     18.7305      20.0  14.1187  76.1969  19.4859  10.0\n",
       "    5 │ 132007  E     H     20.362        5.0  15.6495  71.4443  18.8105   8.9 ⋯\n",
       "    6 │ 132007  E     H     20.5245      10.0  15.1506  72.9933  19.0306   9.3\n",
       "    7 │ 132007  E     H     18.8877      15.0  14.6321  74.603   19.2594   9.7\n",
       "    8 │ 132007  E     H     19.0275      20.0  14.094   76.2734  19.4967  10.0\n",
       "    9 │ 144925  S     H     19.1693       5.0  15.6339  71.4926  18.8174   9.0 ⋯\n",
       "   10 │ 144925  S     H     19.8456      10.0  15.1109  73.1164  19.0481   9.3\n",
       "   11 │ 144925  S     H     18.9076      15.0  14.5842  74.7517  19.2805   9.7\n",
       "  ⋮   │   ⋮      ⋮     ⋮       ⋮         ⋮        ⋮        ⋮        ⋮        ⋮ ⋱\n",
       " 8035 │ 108604  M     H     11.9363      15.0  13.7969  77.2689  19.6856  10.3\n",
       " 8036 │ 108604  M     H     11.757       20.0  13.4339  78.8165  20.178   10.7 ⋯\n",
       " 8037 │ 122335  M     H     12.4224       5.0  15.4894  71.9412  18.8811   9.1\n",
       " 8038 │ 122335  M     H     12.2783      10.0  14.6635  74.5054  19.2455   9.6\n",
       " 8039 │ 122335  M     H     10.2857      15.0  13.8146  77.1935  19.6616  10.3\n",
       " 8040 │ 122335  M     H      9.71922     20.0  13.3844  79.0279  20.2452  10.8 ⋯\n",
       " 8041 │ 12010   S     H     10.8238       5.0  15.4288  72.1295  18.9079   9.1\n",
       " 8042 │ 12010   S     H     10.6572      10.0  14.4791  75.078   19.3269   9.8\n",
       " 8043 │ 12010   S     H     10.3152      15.0  13.7108  77.6361  19.8024  10.4\n",
       " 8044 │ 12010   S     H      9.21187     20.0  13.269   79.5198  20.4018  10.9 ⋯\n",
       "\u001b[36m                                                 7 columns and 8023 rows omitted\u001b[0m"
      ]
     },
     "execution_count": 17,
     "metadata": {},
     "output_type": "execute_result"
    }
   ],
   "source": [
    "R\"\"\"\n",
    "devtools::load_all(\".\")\n",
    "load(\"train2018.Rdata\")\n",
    "\"\"\"\n",
    "train_2018 = @rget train_2018\n",
    "train = train_2018[!, [\"ID\",\"AGE\",\"SEXE\",\"Speed\",\"KM\",\"NO2\",\n",
    "        \"O3\",\"PM10\",\"PM25\",\"T\",\"FF\",\"PSTAT\",\"U\",\"INS\",\"nbpartcl\"]]"
   ]
  },
  {
   "cell_type": "code",
   "execution_count": 24,
   "id": "21b4ef62",
   "metadata": {},
   "outputs": [
    {
     "data": {
      "text/plain": [
       "8044-element Vector{Int64}:\n",
       "    1\n",
       "    1\n",
       "    1\n",
       "    1\n",
       "    2\n",
       "    2\n",
       "    2\n",
       "    2\n",
       "    3\n",
       "    3\n",
       "    3\n",
       "    3\n",
       "    4\n",
       "    ⋮\n",
       " 2009\n",
       " 2009\n",
       " 2009\n",
       " 2009\n",
       " 2010\n",
       " 2010\n",
       " 2010\n",
       " 2010\n",
       " 2011\n",
       " 2011\n",
       " 2011\n",
       " 2011"
      ]
     },
     "execution_count": 24,
     "metadata": {},
     "output_type": "execute_result"
    }
   ],
   "source": [
    "\n",
    "function change_ids( data )\n",
    "    \n",
    "    ids = Int[]\n",
    "\n",
    "    for i in data\n",
    "        for (k,l) in enumerate(unique(data))\n",
    "            if l == i\n",
    "                push!(ids, k)\n",
    "                break\n",
    "            end\n",
    "        end\n",
    "    end\n",
    "\n",
    "    return ids\n",
    "end\n",
    "\n",
    "change_ids(levelcode.(train.ID))"
   ]
  },
  {
   "cell_type": "code",
   "execution_count": null,
   "id": "d8373ebe",
   "metadata": {},
   "outputs": [],
   "source": []
  }
 ],
 "metadata": {
  "@webio": {
   "lastCommId": null,
   "lastKernelId": null
  },
  "kernelspec": {
   "display_name": "Julia 1.10.0",
   "language": "julia",
   "name": "julia-1.10"
  },
  "language_info": {
   "file_extension": ".jl",
   "mimetype": "application/julia",
   "name": "julia",
   "version": "1.10.0"
  }
 },
 "nbformat": 4,
 "nbformat_minor": 5
}
